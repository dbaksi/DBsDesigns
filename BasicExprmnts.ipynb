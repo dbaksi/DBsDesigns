{
 "cells": [
  {
   "cell_type": "code",
   "execution_count": 1,
   "id": "9171798f",
   "metadata": {},
   "outputs": [],
   "source": [
    "#from constants import G, M, AU2Km\n",
    "import matplotlib as mpl\n",
    "import matplotlib.pyplot as plt\n",
    "import numpy as np\n",
    "import pandas as pd"
   ]
  },
  {
   "cell_type": "markdown",
   "id": "855a09d1",
   "metadata": {},
   "source": []
  },
  {
   "cell_type": "code",
   "execution_count": 2,
   "id": "78d2a31e",
   "metadata": {},
   "outputs": [],
   "source": [
    "G=6.673*(10**-11)\n",
    "M=1.9891*(10**30)\n",
    "AU2Km=1.495978707*(10**8)"
   ]
  },
  {
   "cell_type": "code",
   "execution_count": 3,
   "id": "05d3fddf",
   "metadata": {
    "scrolled": true
   },
   "outputs": [
    {
     "data": {
      "text/html": [
       "<div>\n",
       "<style scoped>\n",
       "    .dataframe tbody tr th:only-of-type {\n",
       "        vertical-align: middle;\n",
       "    }\n",
       "\n",
       "    .dataframe tbody tr th {\n",
       "        vertical-align: top;\n",
       "    }\n",
       "\n",
       "    .dataframe thead th {\n",
       "        text-align: right;\n",
       "    }\n",
       "</style>\n",
       "<table border=\"1\" class=\"dataframe\">\n",
       "  <thead>\n",
       "    <tr style=\"text-align: right;\">\n",
       "      <th></th>\n",
       "      <th>planet</th>\n",
       "      <th>mass</th>\n",
       "      <th>distance</th>\n",
       "      <th>Gravitational Pull</th>\n",
       "    </tr>\n",
       "  </thead>\n",
       "  <tbody>\n",
       "    <tr>\n",
       "      <th>0</th>\n",
       "      <td>mercury</td>\n",
       "      <td>3.300000e+23</td>\n",
       "      <td>0.390</td>\n",
       "      <td>1.286802e+28</td>\n",
       "    </tr>\n",
       "    <tr>\n",
       "      <th>1</th>\n",
       "      <td>venus</td>\n",
       "      <td>4.870000e+24</td>\n",
       "      <td>0.723</td>\n",
       "      <td>5.525598e+28</td>\n",
       "    </tr>\n",
       "    <tr>\n",
       "      <th>2</th>\n",
       "      <td>earth</td>\n",
       "      <td>5.980000e+24</td>\n",
       "      <td>1.000</td>\n",
       "      <td>3.546730e+28</td>\n",
       "    </tr>\n",
       "    <tr>\n",
       "      <th>3</th>\n",
       "      <td>mars</td>\n",
       "      <td>6.420000e+23</td>\n",
       "      <td>1.524</td>\n",
       "      <td>1.639427e+27</td>\n",
       "    </tr>\n",
       "    <tr>\n",
       "      <th>4</th>\n",
       "      <td>jupiter</td>\n",
       "      <td>1.900000e+27</td>\n",
       "      <td>5.203</td>\n",
       "      <td>4.162678e+29</td>\n",
       "    </tr>\n",
       "  </tbody>\n",
       "</table>\n",
       "</div>"
      ],
      "text/plain": [
       "    planet          mass  distance  Gravitational Pull\n",
       "0  mercury  3.300000e+23     0.390        1.286802e+28\n",
       "1    venus  4.870000e+24     0.723        5.525598e+28\n",
       "2    earth  5.980000e+24     1.000        3.546730e+28\n",
       "3     mars  6.420000e+23     1.524        1.639427e+27\n",
       "4  jupiter  1.900000e+27     5.203        4.162678e+29"
      ]
     },
     "execution_count": 3,
     "metadata": {},
     "output_type": "execute_result"
    }
   ],
   "source": [
    "def gravForce(m1,m2,r):\n",
    "    f=(G*m1*m2)/(r**2)\n",
    "    return f\n",
    "   \n",
    "df = pd.read_csv('experiment.txt')\n",
    "\n",
    "#df.head()\n",
    "#print(df)\n",
    "\n",
    "#fig= plt.figure()\n",
    "\n",
    "forcesList = []\n",
    "\n",
    "for i in range(0,len(df)):\n",
    "    gravPull= gravForce(M, df.iloc[i]['mass'], df.iloc[i]['distance']*AU2Km)\n",
    "    forcesList.append(gravPull)\n",
    "    \n",
    "    #df.assign()\n",
    "    #print(df.iloc[i]['planet'], df.iloc[i]['mass'], df.iloc[i]['distance'], gravPull)\n",
    " \n",
    "forcesList\n",
    "#forces = np.array(forcesList)\n",
    "df['Gravitational Pull'] = forcesList\n",
    "df.head()"
   ]
  },
  {
   "cell_type": "code",
   "execution_count": 4,
   "id": "6f22c18e",
   "metadata": {},
   "outputs": [],
   "source": [
    "df.to_csv('grav_data.txt')"
   ]
  },
  {
   "cell_type": "code",
   "execution_count": 5,
   "id": "99edef90",
   "metadata": {},
   "outputs": [
    {
     "data": {
      "text/plain": [
       "0     0.390\n",
       "1     0.723\n",
       "2     1.000\n",
       "3     1.524\n",
       "4     5.203\n",
       "5     9.539\n",
       "6    19.180\n",
       "7    30.060\n",
       "8    39.530\n",
       "Name: distance, dtype: float64"
      ]
     },
     "execution_count": 5,
     "metadata": {},
     "output_type": "execute_result"
    }
   ],
   "source": [
    "df['distance']"
   ]
  },
  {
   "cell_type": "code",
   "execution_count": 6,
   "id": "60c1371a",
   "metadata": {
    "scrolled": false
   },
   "outputs": [
    {
     "data": {
      "image/png": "[encoded data removed]",
      "text/plain": [
       "<Figure size 504x288 with 1 Axes>"
      ]
     },
     "metadata": {
      "needs_background": "light"
     },
     "output_type": "display_data"
    }
   ],
   "source": [
    "plt.figure(figsize=(7, 4))\n",
    "plt.xlabel(\"Planet\")\n",
    "plt.ylabel(\"Distance\")\n",
    "#plt.subplot(1,2,1)\n",
    "plt.plot(df['planet'],df['distance'],marker = 'o', color='green' )\n",
    "plt.title(\"Distance from the Sun\")\n",
    "plt.grid()\n",
    "#plt.subplot(1,2,2)\n",
    "\n",
    "plt.show()"
   ]
  },
  {
   "cell_type": "code",
   "execution_count": 7,
   "id": "392c5b44",
   "metadata": {},
   "outputs": [
    {
     "data": {
      "text/plain": [
       "0    1.286802e+28\n",
       "1    5.525598e+28\n",
       "2    3.546730e+28\n",
       "3    1.639427e+27\n",
       "4    4.162678e+29\n",
       "5    3.708801e+28\n",
       "6    1.399424e+27\n",
       "7    6.694978e+26\n",
       "8    4.896243e+22\n",
       "Name: Gravitational Pull, dtype: float64"
      ]
     },
     "execution_count": 7,
     "metadata": {},
     "output_type": "execute_result"
    }
   ],
   "source": [
    "df['Gravitational Pull']"
   ]
  },
  {
   "cell_type": "code",
   "execution_count": 8,
   "id": "52c352ba",
   "metadata": {},
   "outputs": [
    {
     "data": {
      "image/png": "[encoded data removed]",
      "text/plain": [
       "<Figure size 504x288 with 1 Axes>"
      ]
     },
     "metadata": {
      "needs_background": "light"
     },
     "output_type": "display_data"
    }
   ],
   "source": [
    "plt.figure(figsize=(7, 4))\n",
    "plt.xlabel(\"Planet\")\n",
    "plt.ylabel(\"Gravitaional Force\")\n",
    "plt.plot(df['planet'],df['Gravitational Pull'],marker = '*', color='red' )\n",
    "plt.title(\"Gravitational force between planet and the Sun\")\n",
    "plt.grid()\n",
    "plt.show()"
   ]
  },
  {
   "cell_type": "code",
   "execution_count": null,
   "id": "2e7bfaef",
   "metadata": {},
   "outputs": [],
   "source": []
  }
 ],
 "metadata": {
  "kernelspec": {
   "display_name": "Python 3 (ipykernel)",
   "language": "python",
   "name": "python3"
  },
  "language_info": {
   "codemirror_mode": {
    "name": "ipython",
    "version": 3
   },
   "file_extension": ".py",
   "mimetype": "text/x-python",
   "name": "python",
   "nbconvert_exporter": "python",
   "pygments_lexer": "ipython3",
   "version": "3.9.7"
  }
 },
 "nbformat": 4,
 "nbformat_minor": 5
}
